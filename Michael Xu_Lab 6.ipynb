{
 "cells": [
  {
   "cell_type": "markdown",
   "metadata": {},
   "source": [
    "Preface: I used Python 3 (v 5.5.0) to write this project. Other software I used is annotated below in **boldface**."
   ]
  },
  {
   "cell_type": "markdown",
   "metadata": {},
   "source": [
    "# Sequencing  _Shewanella oneidensis_ Genomic Reads"
   ]
  },
  {
   "cell_type": "markdown",
   "metadata": {},
   "source": [
    "In this notebook, I used **Bowtie2** to align reads/sequences, **samtools** to calculate coverage, and **matlibplot/pandas** to plot my results. All data was collected using an Illumina MiSeq. The used _S. oneidensis_ genomic reads were provided by BioE 131 (\"Jamie\").\n",
    "\n",
    "A general outline of this lab:\n",
    "1. Align the genomic read to the human genome to remove contamination\n",
    "2. Align the genomic read to a _S. oneidensis_ reference genome\n",
    "3. Generate coverage plots\n",
    "4. Determine Jamie's biological sex"
   ]
  },
  {
   "cell_type": "markdown",
   "metadata": {},
   "source": [
    "## 1. Removing _Homo sapiens_ Contamination from _S. oneidensis_ Genomic Reads\n",
    "\n",
    "To align the Illumina MiSeq reads to the human genome, I ran **Bowtie2** on **Terminal** using the command:\n",
    "\n",
    "    bowtie2 -p 4 --very-fast --no-unal -x /data/hg19/hg19 \\ -U /data/lab6/illumina_reads.fastq -S output.sam --un unaligned.fastq\n",
    "\n",
    "```hg19``` is the reference human genome file, while ```illumina_reads.fastq``` is the _S. oneidensis_ reads file. Using ```--un unaligned.fastq``` discards unaligned reads to another FASTQ file. Removing ```--un``` results in inclusion of contaminant reads.\n",
    "\n",
    "### Results\n",
    "\n",
    "    1124714 reads; of these:\n",
    "      1124714 (100.00%) were unpaired; of these:\n",
    "        1028379 (91.43%) aligned 0 times\n",
    "        87274 (7.76%) aligned exactly 1 time\n",
    "        9061 (0.81%) aligned >1 times\n",
    "    8.57% overall alignment rate\n",
    "    \n",
    "There is thus **8.57% contamination** from human DNA in this sample.\n",
    "\n",
    "I removed the contaminated reads by using the 1028379 unpaired reads stored in ```unaligned.fastq``` for subsequent analyses."
   ]
  },
  {
   "cell_type": "markdown",
   "metadata": {},
   "source": [
    "## 2. Alignment to Reference _S. oneidensis_ Genome"
   ]
  },
  {
   "cell_type": "markdown",
   "metadata": {},
   "source": [
    "I ran **Bowtie2** again to align the filtered library ```unaligned.fastq``` from Part 1 to the given reference:\n",
    "\n",
    "    bowtie2 -p 4 --very-fast --no-unal -x /data/lab6/shewanella_oneidensis_mr-1 \\ -U unaligned.fastq -S output2.sam --un unaligned2.fastq\n",
    "\n",
    "Where ```shewanella_oneidensis_mr-1``` is the reference _S. oneidensis_ genome file and  ```illumina_reads.fastq``` the _S. oneidensis_ reads data file. The resulting outputs were ```output2.sam``` and ```unaligned2.fastq```.\n",
    "\n",
    "### Results\n",
    "\n",
    "    1028379 reads; of these:\n",
    "      1028379 (100.00%) were unpaired; of these:\n",
    "        299560 (29.13%) aligned 0 times\n",
    "        687571 (66.86%) aligned exactly 1 time\n",
    "        41248 (4.01%) aligned >1 times\n",
    "    70.87% overall alignment rate\n",
    "\n",
    "There is thus **70.87% alignment** (and **29.13%** unaligned) with the reference _S. oneidensis_ genome. Like before, using ```--un unaligned.fastq``` discards this alignment's unaligned reads to another FASTQ file. Removing ```--un``` results in inclusion of unaligned reads.\n",
    "\n",
    "#### Using ```--very-sensitive``` Instead of ```--very-fast```\n",
    "\n",
    "    bowtie2 -p 4 --very-sensitive --no-unal -x /data/lab6/shewanella_oneidensis_mr-1 \\ -U unaligned.fastq -S output3.sam --un unaligned3.fastq\n",
    "    \n",
    "I used the filtered library from the Bowtie2 run in Part 1 (```unaligned.fastq```) again but created additional outputs (```output3.sam```, ```unaligned3.fastq```), resulting in:\n",
    "\n",
    "    1028379 reads; of these:\n",
    "      1028379 (100.00%) were unpaired; of these:\n",
    "        298112 (28.99%) aligned 0 times\n",
    "        688180 (66.92%) aligned exactly 1 time\n",
    "        42087 (4.09%) aligned >1 times\n",
    "    71.01% overall alignment rate\n",
    "\n",
    "Using ```--very-sensitive```, alignment with the reference _S. oneidensis_ genome increases by **0.14%**."
   ]
  },
  {
   "cell_type": "markdown",
   "metadata": {},
   "source": [
    "## 3. Coverage Plots"
   ]
  },
  {
   "cell_type": "markdown",
   "metadata": {},
   "source": [
    "Using **samtools** on **Terminal**, I converted ```output2.sam``` to ```output2.bam```:\n",
    "\n",
    "    samtools view -b output2.sam > output2.bam\n",
    "    \n",
    "I then ran the following commands to sort, index, and use \"depth\" to generate pertinent files:\n",
    "\n",
    "    samtools sort output2.bam > output2.sorted.bam\n",
    "    samtools index output2.sorted.bam\n",
    "    samtools depth -a output2.sorted.bam > pileup2.tab"
   ]
  },
  {
   "cell_type": "code",
   "execution_count": 1,
   "metadata": {},
   "outputs": [
    {
     "name": "stdout",
     "output_type": "stream",
     "text": [
      "37.03830306625343\n",
      "281\n",
      "0\n"
     ]
    }
   ],
   "source": [
    "dat = open(\"pileup2.tab\",\"r\")\n",
    "list1 = []\n",
    "for line in dat:\n",
    "    column3 = line.split('\\t')\n",
    "    list1.append(int(column3[2]))\n",
    "    \n",
    "# Determine the minimum, maximum, and mean coverage for all positions\n",
    "\n",
    "import numpy\n",
    "\n",
    "mean = numpy.mean(list1)\n",
    "print(mean)\n",
    "max = numpy.amax(list1)\n",
    "print(max)\n",
    "min = numpy.amin(list1)\n",
    "print(min)"
   ]
  },
  {
   "cell_type": "markdown",
   "metadata": {},
   "source": [
    "The filtered library has a mean depth of coverage 37.0383, maximum depth of coverage 281, and minimum depth of coverage 0."
   ]
  },
  {
   "cell_type": "markdown",
   "metadata": {},
   "source": [
    "### Plots\n",
    "\n",
    "#### Position in Genome vs. Depth of Coverage\n",
    "\n",
    "There seems to be general uniformity to depth of coverage, with exception to a few very notable spikes (>150 depth)."
   ]
  },
  {
   "cell_type": "code",
   "execution_count": 8,
   "metadata": {},
   "outputs": [
    {
     "data": {
      "text/plain": [
       "Text(0, 0.5, 'Depth of Coverage')"
      ]
     },
     "execution_count": 8,
     "metadata": {},
     "output_type": "execute_result"
    },
    {
     "data": {
      "image/png": "[encoded data removed]",
      "text/plain": [
       "<Figure size 432x288 with 1 Axes>"
      ]
     },
     "metadata": {
      "needs_background": "light"
     },
     "output_type": "display_data"
    }
   ],
   "source": [
    "import matplotlib.pyplot as plt\n",
    "\n",
    "plt.plot(list1)\n",
    "plt.xlabel('Position in Genome') \n",
    "plt.ylabel('Depth of Coverage')"
   ]
  },
  {
   "cell_type": "markdown",
   "metadata": {},
   "source": [
    "#### Depth of Coverage vs. Count\n",
    "\n",
    "The curve is skewed to the left. This means that the large majority of reads has a depth of coverage about the mean (37.0383), and the reads with depth of coverage much greater than 37.0383 are very rare."
   ]
  },
  {
   "cell_type": "code",
   "execution_count": 3,
   "metadata": {},
   "outputs": [
    {
     "data": {
      "text/plain": [
       "Text(0, 0.5, 'Count')"
      ]
     },
     "execution_count": 3,
     "metadata": {},
     "output_type": "execute_result"
    },
    {
     "data": {
      "image/png": "[encoded data removed]",
      "text/plain": [
       "<Figure size 432x288 with 1 Axes>"
      ]
     },
     "metadata": {
      "needs_background": "light"
     },
     "output_type": "display_data"
    }
   ],
   "source": [
    "plt.hist(list1, 281)\n",
    "plt.xlabel('Depth of Coverage') \n",
    "plt.ylabel('Count')"
   ]
  },
  {
   "cell_type": "markdown",
   "metadata": {},
   "source": [
    "## 4. Extra Credit"
   ]
  },
  {
   "cell_type": "markdown",
   "metadata": {},
   "source": [
    "**(a)** The first task at hand is to determine Jamie's biological sex. "
   ]
  },
  {
   "cell_type": "code",
   "execution_count": 4,
   "metadata": {
    "scrolled": true
   },
   "outputs": [
    {
     "name": "stdout",
     "output_type": "stream",
     "text": [
      "Chromosome Depth\n",
      "{'chr1': 2272919, 'chr2': 2408597, 'chr3': 1967583, 'chr4': 1894437, 'chr5': 1796144, 'chr6': 1693304, 'chr7': 1567929, 'chr8': 1443026, 'chr9': 1206697, 'chr10': 1323874, 'chr11': 1325997, 'chr12': 1316961, 'chr13': 967370, 'chr14': 890866, 'chr15': 825516, 'chr16': 797118, 'chr17': 787341, 'chr18': 754875, 'chr19': 560775, 'chr20': 599238, 'chr21': 350957, 'chr22': 352372, 'chrX': 1508460, 'chrY': 244489}\n",
      "Chromosome Length\n",
      "{'chr1': 2272970, 'chr2': 2408692, 'chr3': 1967638, 'chr4': 1894494, 'chr5': 1796203, 'chr6': 1693345, 'chr7': 1567931, 'chr8': 1443077, 'chr9': 1206747, 'chr10': 1323935, 'chr11': 1326046, 'chr12': 1316943, 'chr13': 967398, 'chr14': 890894, 'chr15': 825475, 'chr16': 797024, 'chr17': 787358, 'chr18': 754949, 'chr19': 560804, 'chr20': 599262, 'chr21': 350961, 'chr22': 352377, 'chrX': 1508504, 'chrY': 244099}\n"
     ]
    }
   ],
   "source": [
    "# Extract chromosome depth and length from pileup.tab (file with Jamie's genome)\n",
    "\n",
    "data = open(\"pileup.tab\", \"r\")\n",
    "position, depth = [], []\n",
    "ChrDepth, Length = {}, {}\n",
    "for line in data.readlines():\n",
    "    line = line[:-1]\n",
    "    lineList = line.split(\"\\t\")\n",
    "    position.append(int(lineList[1]))\n",
    "    depth.append(int(lineList[2]))\n",
    "    if len(lineList[0]) <= 5:\n",
    "        ChrDepth[lineList[0]] = ChrDepth.get(lineList[0], 0) + int(lineList[2])\n",
    "        Length[lineList[0]] = Length.get(lineList[0], 0) + 1\n",
    "\n",
    "print(\"Chromosome Depth\")\n",
    "print(ChrDepth)\n",
    "print(\"Chromosome Length\")\n",
    "print(Length)"
   ]
  },
  {
   "cell_type": "code",
   "execution_count": 5,
   "metadata": {},
   "outputs": [
    {
     "data": {
      "text/plain": [
       "Text(0, 0.5, 'Depth of Coverage')"
      ]
     },
     "execution_count": 5,
     "metadata": {},
     "output_type": "execute_result"
    },
    {
     "data": {
      "image/png": "[encoded data removed]",
      "text/plain": [
       "<Figure size 432x288 with 1 Axes>"
      ]
     },
     "metadata": {
      "needs_background": "light"
     },
     "output_type": "display_data"
    }
   ],
   "source": [
    "# Plot Depth of Coverage vs. Count\n",
    "\n",
    "import collections\n",
    "import pandas as pd\n",
    "import matplotlib.pyplot as plt\n",
    "\n",
    "df = pd.DataFrame({'Chromosome':['1','2','3','4','5','6','7','8','9','10','11','12','13','14','15','16','17','18','19','20','21','22','X', 'Y'], 'DepthCov':[2272919,2408597,1967583,1894437,1796144,1693304,1567929,1443026,1206697,1323874,1325997,1316961,967370,890866,825516,797118,787341,754875,560775,599238,350957,352372,1508460,244489]})\n",
    "ax = df.plot.bar(x='Chromosome', y='DepthCov')\n",
    "ax.set_ylim(20000,2500000)\n",
    "ax.legend_.remove()\n",
    "plt.xlabel('Chromosome')\n",
    "plt.ylabel('Depth of Coverage')"
   ]
  },
  {
   "cell_type": "code",
   "execution_count": 6,
   "metadata": {},
   "outputs": [
    {
     "name": "stdout",
     "output_type": "stream",
     "text": [
      "{'chr1': 0.9999775623963361, 'chr2': 0.9999605595069855, 'chr3': 0.9999720477038968, 'chr4': 0.9999699128104919, 'chr5': 0.9999671529331595, 'chr6': 0.9999757875683928, 'chr7': 0.9999987244336644, 'chr8': 0.9999646588504979, 'chr9': 0.9999585662943434, 'chr10': 0.9999539252304682, 'chr11': 0.9999630480390574, 'chr12': 1.0000136680175225, 'chr13': 0.9999710563801042, 'chr14': 0.999968570896201, 'chr15': 1.000049668372755, 'chr16': 1.0001179387320833, 'chr17': 0.9999784088051433, 'chr18': 0.9999019801337574, 'chr19': 0.9999482885286125, 'chr20': 0.9999599507394095, 'chr21': 0.9999886027222398, 'chr22': 0.99998581065166, 'chrX': 0.9999708320296135, 'chrY': 1.001597712403574}\n"
     ]
    }
   ],
   "source": [
    "# Calculate average depth for each chromosome\n",
    "\n",
    "AvgDepth = {}\n",
    "for key in ChrDepth.keys():\n",
    "    AvgDepth[key] = ChrDepth.get(key) / Length.get(key)\n",
    "print(AvgDepth)"
   ]
  },
  {
   "cell_type": "code",
   "execution_count": 7,
   "metadata": {},
   "outputs": [
    {
     "data": {
      "text/plain": [
       "Text(0, 0.5, 'Average Depth')"
      ]
     },
     "execution_count": 7,
     "metadata": {},
     "output_type": "execute_result"
    },
    {
     "data": {
      "image/png": "[encoded data removed]",
      "text/plain": [
       "<Figure size 432x288 with 1 Axes>"
      ]
     },
     "metadata": {
      "needs_background": "light"
     },
     "output_type": "display_data"
    }
   ],
   "source": [
    "# Plot Chromosome vs. Average Depth for Jamie's genome\n",
    "\n",
    "df = pd.DataFrame({'Chromosome':['1','2','3','4','5','6','7','8','9','10','11','12','13','14','15','16','17','18','19','20','21','22','X', 'Y'], 'AvgDepth':[0.9999775623963361,0.9999605595069855,0.9999720477038968,0.9999699128104919,0.9999671529331595,0.9999757875683928,0.9999987244336644,0.9999646588504979,0.9999585662943434,0.9999539252304682,0.9999630480390574,1.0000136680175225,0.9999710563801042,0.999968570896201,1.000049668372755,1.0001179387320833,0.9999784088051433,0.9999019801337574,0.9999482885286125,0.9999599507394095,0.9999886027222398,0.99998581065166,0.9999708320296135,1.001597712403574]})\n",
    "ax = df.plot.bar(x='Chromosome', y='AvgDepth')\n",
    "ax.set_ylim(0.99985,1.00175)\n",
    "ax.legend_.remove()\n",
    "plt.xlabel('Chromosome')\n",
    "plt.ylabel('Average Depth')"
   ]
  },
  {
   "cell_type": "markdown",
   "metadata": {},
   "source": [
    "As there is a relatively large average depth for ChrY in the genome, Jamie must be **male** (or at the minimum must have Y chromosome in his genome)."
   ]
  },
  {
   "cell_type": "markdown",
   "metadata": {},
   "source": [
    "**(b)** Extra Credit 2 not attempted, but I would presumably extract regions with higher coverage than average by finsing all sequences with coverage larger than the average (i.e. average of all average depth values).\n",
    "\n",
    "Then I would extract reads with these regions from ```output.sam``` and **NCBI BLAST** them."
   ]
  }
 ],
 "metadata": {
  "kernelspec": {
   "display_name": "Python 3",
   "language": "python",
   "name": "python3"
  },
  "language_info": {
   "codemirror_mode": {
    "name": "ipython",
    "version": 3
   },
   "file_extension": ".py",
   "mimetype": "text/x-python",
   "name": "python",
   "nbconvert_exporter": "python",
   "pygments_lexer": "ipython3",
   "version": "3.6.6"
  }
 },
 "nbformat": 4,
 "nbformat_minor": 2
}
