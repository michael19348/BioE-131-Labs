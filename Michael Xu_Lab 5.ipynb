{
 "cells": [
  {
   "cell_type": "markdown",
   "metadata": {},
   "source": [
    "Preface: I used Python 3 (v 5.5.0) to write this project. Other used software are annotated below in **boldface**."
   ]
  },
  {
   "cell_type": "markdown",
   "metadata": {},
   "source": [
    "# RNAfold: Secondary Structure of Riboswitches"
   ]
  },
  {
   "cell_type": "markdown",
   "metadata": {},
   "source": [
    "In this lab, I used _subprocess_ and **ViennaRNA RNAfold** to model the secondary structures of various riboswitches from Robert Penchovsky and Ronald Breaker's 2005 Nature Biotechnology article ([\"Computational design and experimental validation of oligonucleotide-sensing allosteric ribozymes\"](https://www.nature.com/articles/nbt1155)). Figure references to those in the article.\n",
    "\n",
    "Effector DNA binds to \"OBS\" (oligonucleotide binding sites). There are various DNA substrates used in the article that bind each pertinent OBS."
   ]
  },
  {
   "cell_type": "markdown",
   "metadata": {},
   "source": [
    "## Questions Regarding the Function of Riboswitches in Penchovsky et al.\n",
    "\n",
    "These riboswitches have a hammerhead domain from nucleotides 2-9, which allows for catalytic self-cleavage when certain conditions are fulfilled. In this case, conditional binding of effector DNA to OBS sequences leads to self-cleavage.\n",
    "\n",
    "_Will the AND-1 riboswitch cleave itself when both of its OBS are bound?_\n",
    "AND-1 will only self-cleave when both OBS are bound.\n",
    "\n",
    "_Will the OR-1 riboswitch cleave itself when neither of its OBS are bound?_\n",
    "OR-1 will self-cleave when either OBS-1 or OBS-2 is bound.\n",
    "\n",
    "_What behavior do we expect from the YES-1 riboswitch?_\n",
    "YES-1 will cleave itself when the effector DNA strand binds the OBS \"faithfully.\" This leads to the alignment and basepairing of the \"red\" effector regions to each other."
   ]
  },
  {
   "cell_type": "markdown",
   "metadata": {},
   "source": [
    "## 1. Table of Riboswitches in Penchovsky et al."
   ]
  },
  {
   "cell_type": "code",
   "execution_count": 1,
   "metadata": {},
   "outputs": [
    {
     "name": "stdout",
     "output_type": "stream",
     "text": [
      "('Name', 'OBS1 Start', 'OBS1 End', 'OBS2 Start', 'OBS2 End', 'Red1 Start', 'Red1 End', 'Red2 Start', 'Red2 End', '-')\n",
      "('YES1', '26', '47', 'N/A', 'N/A', '16', '21', '49', '54', '-')\n",
      "('NOT1', '44', '66', 'N/A', 'N/A', '40', '43', '74', '77', '-')\n",
      "('AND1', '30', '45', '49', '64', '16', '23', '70', '77', '-')\n",
      "('OR1', '27', '46', '47', '66', '16', '26', '67', '77', '-')\n"
     ]
    }
   ],
   "source": [
    "# I created the database riboswitch.db to store all the riboswitch data from Breaker et al. Data 5' to 3', with labels corresponding to different OBS and \"red\" regions.\n",
    "\n",
    "import sqlite3\n",
    "conn = sqlite3.connect('riboswitch.db')\n",
    "c = conn.cursor()\n",
    "\n",
    "c.execute(\"\"\"CREATE TABLE data (name TEXT PRIMARY KEY ASC, \n",
    "                                start_OBS1 TEXT,\n",
    "                                end_OBS1 TEXT,\n",
    "                                start_OBS2 TEXT, \n",
    "                                end_OBS2 TEXT, \n",
    "                                start_Red1 TEXT, \n",
    "                                end_Red1 TEXT, \n",
    "                                start_Red2 TEXT, \n",
    "                                end_Red2 TEXT,\n",
    "                                strand VARCHAR(1));\"\"\")\n",
    "\n",
    "# Column Labels\n",
    "\n",
    "c.execute(\"\"\"INSERT INTO data (name, start_OBS1, end_OBS1, start_OBS2, end_OBS2, start_Red1, end_Red1, start_Red2, end_Red2, strand)\n",
    "                        VALUES ('Name','OBS1 Start','OBS1 End','OBS2 Start','OBS2 End','Red1 Start','Red1 End','Red2 Start','Red2 End','-');\"\"\")\n",
    "\n",
    "# Figure 2a YES-1\n",
    "\n",
    "c.execute(\"\"\"INSERT INTO data (name, start_OBS1, end_OBS1, start_OBS2, end_OBS2, start_Red1, end_Red1, start_Red2, end_Red2, strand)\n",
    "                        VALUES ('YES1','26','47','N/A','N/A','16','21','49','54','-');\"\"\")\n",
    "\n",
    "# Figure 4a NOT-1\n",
    "\n",
    "c.execute(\"\"\"INSERT INTO data (name, start_OBS1, end_OBS1, start_OBS2, end_OBS2, start_Red1, end_Red1, start_Red2, end_Red2, strand)\n",
    "                        VALUES ('NOT1','44','66','N/A','N/A','40','43','74','77','-');\"\"\")\n",
    "\n",
    "# Figure 5a AND-1\n",
    "\n",
    "c.execute(\"\"\"INSERT INTO data (name, start_OBS1, end_OBS1, start_OBS2, end_OBS2, start_Red1, end_Red1, start_Red2, end_Red2, strand)\n",
    "                        VALUES ('AND1','30','45','49','64','16','23','70','77','-');\"\"\")\n",
    "\n",
    "# Figure 6a OR-1\n",
    "\n",
    "c.execute(\"\"\"INSERT INTO data (name, start_OBS1, end_OBS1, start_OBS2, end_OBS2, start_Red1, end_Red1, start_Red2, end_Red2, strand)\n",
    "                        VALUES ('OR1','27','46','47','66','16','26','67','77','-');\"\"\")\n",
    "\n",
    "conn.commit()\n",
    "\n",
    "# Output table below\n",
    "\n",
    "c.execute(\"SELECT * FROM data;\")\n",
    "list=(c.fetchall())\n",
    "for i in list:\n",
    "    print(i)"
   ]
  },
  {
   "cell_type": "markdown",
   "metadata": {},
   "source": [
    "## 2. RNAfold: Without OBS Binding"
   ]
  },
  {
   "cell_type": "code",
   "execution_count": 2,
   "metadata": {},
   "outputs": [
    {
     "name": "stdout",
     "output_type": "stream",
     "text": [
      "\n",
      ">YES1\n",
      "gggcgacccugaugagcuugaguuuagcucgucacuguccagguucaaucaggcgaaacggugaaagccguagguugccc\n",
      "((((((((.(((((((((.......))))))))).((.((.(((...))).))))..(((((....))))).)))))))) (-33.00)\n",
      ">NOT1\n",
      "ggcagguacauacagcugaugagucccaaauaggacgaaacgcgacacacaccacuaaaccgugcaguguuuugcguccuguauuccacugc\n",
      ".((((....((((((.......((((......))))...((((((.((((..(((......)))..)))).)))))).))))))....)))) (-28.10)\n",
      ">AND1\n",
      "gggcgacccugaugagcuugguuuaguauuuacagcuccauacaugagguguuaucccuaugcaaguucgaucaggcgaaacggugaaagccguagguugcccagagacaau\n",
      "((((((((((((((((((((...(((.....(((.(((.......))).))).....)))..))))))).))))).....(((((....))))).))))))))......... (-42.10)\n",
      ">OR1\n",
      "gggcgacccugaugagcuugguugaguauuuacagcuccauacaugagguguucucccuacgcaaguucgaucaggcgaaacggugaaagccguagguugccc\n",
      "((((((((((((((((((((((.(((.....(((.(((.......))).))).)))...)).))))))).))))).....(((((....))))).)))))))) (-40.00)\n",
      "\n"
     ]
    }
   ],
   "source": [
    "# This cell runs RNAfold in iPython using the subprocess script. No OBS binding is considered here.\n",
    "\n",
    "import subprocess\n",
    "\n",
    "# Input sequences to be modelled by RNAfold\n",
    "\n",
    "seqs=\\\n",
    "\"\"\">YES1\n",
    "gggcgacccugaugagcuugaguuuagcucgucacuguccagguucaaucaggcgaaacggugaaagccguagguugccc\n",
    ">NOT1\n",
    "ggcagguacauacagcugaugagucccaaauaggacgaaacgcgacacacaccacuaaaccgugcaguguuuugcguccuguauuccacugc\n",
    ">AND1\n",
    "gggcgacccugaugagcuugguuuaguauuuacagcuccauacaugagguguuaucccuaugcaaguucgaucaggcgaaacggugaaagccguagguugcccagagacaau\n",
    ">OR1\n",
    "gggcgacccugaugagcuugguugaguauuuacagcuccauacaugagguguucucccuacgcaaguucgaucaggcgaaacggugaaagccguagguugccc\n",
    "\"\"\"\n",
    "\n",
    "p=subprocess.run(['RNAfold'],\n",
    "                input=bytes(seqs,'ascii'),\n",
    "                stdout=subprocess.PIPE,\n",
    "                stderr=subprocess.PIPE)\n",
    "\n",
    "# Output folding coordinates and modelled structure \n",
    "\n",
    "print(p.stderr.decode())\n",
    "\n",
    "print(p.stdout.decode())"
   ]
  },
  {
   "cell_type": "markdown",
   "metadata": {},
   "source": [
    "### Parameter Differences between RNAfold and Published Models\n",
    "\n",
    "The default temperature used in **RNAfold** and the published models is 37°C, though the authors did use **RNAheat** to model riboswitch secondary structures from 20-40°C. \n",
    "\n",
    "The default algorithm in **RNAfold** is minimizing the minimum free energy of the structure, while the published models uses McCaskill's equilibrium partition model.\n",
    "\n",
    "Slight differences in parameterization from **RNAfold** default settings may have contributed to structural differences between the two models. The authors state that they \"essentially [used] the RNAfold source code.\""
   ]
  },
  {
   "cell_type": "markdown",
   "metadata": {},
   "source": [
    "### Unbound YES-1 Gate\n",
    "\n",
    "<img src=\"YES1_ss.jpg\" width=\"30%\">\n",
    "\n",
    "\n",
    "There are some major differences between this structure and the YES-1 gate in _Figure 2a_. In particular, the step-loop region between 10 and 50 nucleotides are deviant. The article shows an interior loop (22-25, 37-39 nt) and small hairpin (27-35 nt), while the **RNAfold** model shows a large hairpin (18-26 nt) and basepairing until the nucleotide 34. The large interior loop is larger in the **RNAfold** model than the actual published model. There are also additional loops in the **RNAfold** model between nucleotides 40-52. These deviations lead to the existence of an extra stem in the **RNAfold** model. It should be noted, though, that the hairpin between nucleotides 62-67 is identical in both models. \n",
    "\n",
    "The \"red\" regions are not bound to each other, and there is no output of TRUE signal.\n",
    "\n",
    "Deviations may be due to different kinetic stability of the two structures based on different parameters used by **RNAfold** and Penchovsky et al."
   ]
  },
  {
   "cell_type": "markdown",
   "metadata": {},
   "source": [
    "### Unbound NOT-1 Gate\n",
    "\n",
    "<img src=\"NOT1_ss.jpg\" width=\"30%\">\n",
    "\n",
    "This structure is identical to the NOT-1 gate in _Figure 4a_. The \"red\" regions are not bound to each other, and there is no output of TRUE signal."
   ]
  },
  {
   "cell_type": "markdown",
   "metadata": {},
   "source": [
    "### Unbound AND-1 Gate (F/F)\n",
    "\n",
    "<img src=\"AND1_ss.jpg\" width=\"30%\">\n",
    "\n",
    "This structure is identical to the AND-1 gate in _Figure 5a_. The \"red\" regions are not bound to each other, and there is no output of TRUE signal."
   ]
  },
  {
   "cell_type": "markdown",
   "metadata": {},
   "source": [
    "### Unbound OR-1 Gate (F/F)\n",
    "\n",
    "<img src=\"OR1_ss.jpg\" width=\"30%\">\n",
    "\n",
    "This structure is identical to the OR-1 gate in _Figure 6a_. The \"red\" regions are not bound to each other, and there is no output of TRUE signal."
   ]
  },
  {
   "cell_type": "markdown",
   "metadata": {},
   "source": [
    "## 3. RNAfold: OBS Binding of YES-1 and NOT-1"
   ]
  },
  {
   "cell_type": "markdown",
   "metadata": {},
   "source": [
    "### Bound YES-1 Gate: \n",
    "\n",
    "Using **MacOS Terminal**, I ran the code \"RNAfold -C YES-1_constraint.txt\" with the sequence below to give the structure.\n",
    "\n",
    "GGGCGACCCUGAUGAGCUUGAGUUUAGCUCGUCACUGUCCAGGUUCAAUCAGGCGAAACGGUGAAAGCCGUAGGUUGCCC\n",
    ".........................xxxxxxxxxxxxxxxxxxxxxx.................................\n",
    "\n",
    "Where \".\" represents unconstrained bases and \"x\" unpaired bases. \"x\" bases represent the nucleotides that bind to effector DNA. \n",
    "\n",
    "<img src=\"YES1_constraint_ss.jpg\" width=\"30%\">\n",
    "\n",
    "This structure is identical to the self-cleaving form of YES-1 gate in _Figure 2a_. The \"red\" regions are  bound to each other, and there is thus output of TRUE signal."
   ]
  },
  {
   "cell_type": "markdown",
   "metadata": {},
   "source": [
    "### Bound NOT-1 Gate: \n",
    "\n",
    "\"RNAfold -C NOT-1_constraint.txt\"\n",
    "GGCAGGUACAUACAGCUGAUGAGUCCCAAAUAGGGACGAACGCGACACACACCACUAAACCGUGCAGUGUUUUGCGUCCUGUAUUCCACUGC\n",
    "............................................xxxxxxxxxxxxxxxxxxxxxx..........................\n",
    "\n",
    "<img src=\"NOT1_constraint_ss.jpg\" width=\"30%\">\n",
    "\n",
    "This structure is identical to the self-cleaving form of NOT-1 gate in _Figure 4a_. The \"red\" regions are not bound to each other, and there is no output of TRUE signal."
   ]
  },
  {
   "cell_type": "markdown",
   "metadata": {},
   "source": [
    "## 4. RNAfold: OBS Binding of AND-1 and OR-1"
   ]
  },
  {
   "cell_type": "markdown",
   "metadata": {},
   "source": [
    "Similar to **Section 3**, I used **MacOS Terminal** to determine the structures of AND-1 and OR-1 gates when OBS-1 and/or OBS-2 are bound. Because there are three other possible permutations (T/F, F/T, T/T; F/F is modelled in **Section 2**), three separate constraints .txt files were made and fed to **RNAfold** for each gate.\n",
    "\n",
    "T refers to OBS binding, while F to lack of OBS binding. _/_ refers to binding to OBS-1/OBS-2."
   ]
  },
  {
   "cell_type": "markdown",
   "metadata": {},
   "source": [
    "### Bound AND-1 Gates\n",
    "\n",
    "\"RNAfold -C AND-1_constraints1.txt\": **T/F, OBS-1 binding only**\n",
    "GGGCGACCCUGAUGAGCUUGGUUUAGUAUUUACAGCUCCAUACUAGAGGUGUUAUCCCUAUGCAAGUUCGAUCAGGCGAAACGGUGAAAGCCGUAGGUUGCCCAGAGACAAU\n",
    "....................xxxxxxxxxxxxxxxxxxxxxxxxx...................................................................\n",
    "\n",
    "\"RNAfold -C AND-1_constraints2.txt\": **F/T, OBS-2 binding only**\n",
    "GGGCGACCCUGAUGAGCUUGGUUUAGUAUUUACAGCUCCAUACUAGAGGUGUUAUCCCUAUGCAAGUUCGAUCAGGCGAAACGGUGAAAGCCGUAGGUUGCCCAGAGACAAU\n",
    ".................................................xxxxxxxxxxxxxxx................................................\n",
    "\n",
    "\"RNAfold -C AND-1_constraints3.txt\": **T/T, OBS-1 and OBS-2 binding**\n",
    "GGGCGACCCUGAUGAGCUUGGUUUAGUAUUUACAGCUCCAUACUAGAGGUGUUAUCCCUAUGCAAGUUCGAUCAGGCGAAACGGUGAAAGCCGUAGGUUGCCCAGAGACAAU\n",
    "....................xxxxxxxxxxxxxxxxxxxxxxxxx....xxxxxxxxxxxxxxx................................................\n",
    "\n",
    "**T/F** <img src=\"AND1_constraints1.jpg\" width=\"30%\">\n",
    "\n",
    "**F/T** <img src=\"AND1_constraints2.jpg\" width=\"30%\">\n",
    "\n",
    "**T/T** <img src=\"AND1_constraints3.jpg\" width=\"30%\">\n",
    "\n",
    "None of the **RNAfold** AND-1 gates are identical to those in _Figure 5a_. However, the third constraint (T/T) shows that binding to both OBS-1 and OBS-2 leads to the output of TRUE signal (that is, the \"red\" regions bind). Likewise, the \"red\" regions do not bind for the T/F or F/T constraints. \n",
    "\n",
    "**_This confirms that the article's AND-1 gate works properly._**"
   ]
  },
  {
   "cell_type": "markdown",
   "metadata": {},
   "source": [
    "### Bound OR-1 Gates\n",
    "\n",
    "\"RNAfold -C OR1_constraints1.txt\": **T/F, OBS-1 binding only**\n",
    "GGGCGACCCUGAUGAGCUUGGUUGAGUAUUUACAGCUCCAUACAUGAGGUGUUCUCCCUACGCAAGUUCGAUCAGGCGAAACGGUGAAAGCCGUAGGUUGCCC\n",
    "...........................xxxxxxxxxxxxxxxxxxx.........................................................\n",
    "\n",
    "\"RNAfold -C OR1_constraints2.txt\": **F/T, OBS-2 binding only**\n",
    "GGGCGACCCUGAUGAGCUUGGUUGAGUAUUUACAGCUCCAUACAUGAGGUGUUCUCCCUACGCAAGUUCGAUCAGGCGAAACGGUGAAAGCCGUAGGUUGCCC\n",
    "..............................................xxxxxxxxxxxxxxxxxxx......................................\n",
    "\n",
    "\"RNAfold -C OR1_constraints3.txt\": **T/T, OBS-1 and OBS-2 binding**\n",
    "GGGCGACCCUGAUGAGCUUGGUUGAGUAUUUACAGCUCCAUACAUGAGGUGUUCUCCCUACGCAAGUUCGAUCAGGCGAAACGGUGAAAGCCGUAGGUUGCCC\n",
    "...........................xxxxxxxxxxxxxxxxxxxxxxxxxxxxxxxxxxxxxx......................................\n",
    "\n",
    "**T/F** <img src=\"OR1_constraints1.jpg\" width=\"30%\">\n",
    "\n",
    "**F/T** <img src=\"OR1_constraints2.jpg\" width=\"30%\">\n",
    "\n",
    "**T/T** <img src=\"OR1_constraints3.jpg\" width=\"30%\">\n",
    "\n",
    "None of the **RNAfold** OR-1 gates are identical to those in _Figure 6a_. Binding to OBS-2 is identical in both sets of structures, but OBS-1 binding is not. Thus, two of the three constraints (F/T, T/T)  result in \"red\" region binding and TRUE signal output upon effector DNA binding to OBS-2.\n",
    "\n",
    "However, the OBS-1 binding only constraint (T/F) does not lead to \"red\" region binding in our **RNAfold** model. \n",
    "\n",
    "**_This raises questions about the efficacy of the article's OR-1 gate._**"
   ]
  }
 ],
 "metadata": {
  "kernelspec": {
   "display_name": "Python 3",
   "language": "python",
   "name": "python3"
  },
  "language_info": {
   "codemirror_mode": {
    "name": "ipython",
    "version": 3
   },
   "file_extension": ".py",
   "mimetype": "text/x-python",
   "name": "python",
   "nbconvert_exporter": "python",
   "pygments_lexer": "ipython3",
   "version": "3.6.5"
  }
 },
 "nbformat": 4,
 "nbformat_minor": 2
}
